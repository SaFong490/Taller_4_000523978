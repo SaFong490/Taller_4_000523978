{
  "cells": [
    {
      "cell_type": "markdown",
      "metadata": {
        "id": "view-in-github",
        "colab_type": "text"
      },
      "source": [
        "<a href=\"https://colab.research.google.com/github/SaFong490/Taller_4_000523978/blob/main/Taller_4_Ciclos.ipynb\" target=\"_parent\"><img src=\"https://colab.research.google.com/assets/colab-badge.svg\" alt=\"Open In Colab\"/></a>"
      ]
    },
    {
      "cell_type": "markdown",
      "id": "66beb5a1",
      "metadata": {
        "id": "66beb5a1"
      },
      "source": [
        "# Fundamentos de Programación para Ingeniería Mecánica\n",
        "## UPB Montería - 202310\n",
        "### Taller 4: Ciclos\n",
        "- Docente: Miguel Ortiz (miguel.ortizp@upb.edu.co)"
      ]
    },
    {
      "cell_type": "markdown",
      "id": "b4381f55",
      "metadata": {
        "id": "b4381f55"
      },
      "source": [
        "Datos del Estudiante:\n",
        "- Nombre: Samuel David Fong Ramos\n",
        "- ID: 000523978\n",
        "- email: samuel.fong@upb.edu.co"
      ]
    },
    {
      "cell_type": "markdown",
      "id": "433f35a0",
      "metadata": {
        "id": "433f35a0"
      },
      "source": [
        "Resuelva los siguientes ejercicios utilizando estructuras cíclicas y condicionales."
      ]
    },
    {
      "cell_type": "markdown",
      "id": "aead929b",
      "metadata": {
        "id": "aead929b"
      },
      "source": [
        "### Problema 1: Suma de Elementos (30xp)\n",
        "\n",
        "Indique cuál de los dos números ingresados por el usuario tiene una suma de dígitos mayor y la diferencia de estas sumas. Si las sumas de los dígitos son iguales, infórmelo al usuario. \n",
        "\n",
        "**Ejemplo:**\n",
        "\n",
        "```\n",
        "Ingrese el primer número: 23672646\n",
        "Ingrese el segundo número: 12653686\n",
        "La suma de los elementos de la lista 2 es mayor que la suma de los elementos de la lista 1 en 1 unidades.\n",
        "```\n",
        "\n",
        "**Recomendación:** pruebe su algoritmo con listas de prueba:\n",
        "- `lst_1`: lista que representa el primer número. Por ejemplo: dígitos del número de su documento de identidad\n",
        "- `lst_2`: lista que representa el segundo número. Por ejemplo: dígitos del número de su id\n",
        "\n",
        "**Nota:** para leer un número ingresado por el usuario y convertirlo en lista puede utilizar las siguientes instrucciones:\n",
        "\n",
        "```python\n",
        "num = input('Número: ')\n",
        "lst = [int(x) for x in num]\n",
        "```"
      ]
    },
    {
      "cell_type": "code",
      "execution_count": null,
      "id": "46b47e9b",
      "metadata": {
        "colab": {
          "base_uri": "https://localhost:8080/"
        },
        "id": "46b47e9b",
        "outputId": "6f3952ce-d838-4415-86f4-f948c03c49bf"
      },
      "outputs": [
        {
          "output_type": "stream",
          "name": "stdout",
          "text": [
            "Ingrese el primer número: 34\n",
            "Ingrese el segundo número: 45\n",
            "[3, 4]\n",
            "[4, 5]\n",
            "El número cuya suma de dígitos es mayor es: 45 cuyo valor es: 9 con una diferencia de: 2\n"
          ]
        }
      ],
      "source": [
        "num=(input(\"Ingrese el primer número: \"))\n",
        "num2=(input(\"Ingrese el segundo número: \"))\n",
        "lst = [int(x) for x in num]\n",
        "print(lst)\n",
        "lst2 = [int(x) for x in num2]\n",
        "print(lst2)\n",
        "suma1 = 0\n",
        "suma2 = 0\n",
        "for a in lst:\n",
        "  suma1 += a\n",
        "for b in lst2:\n",
        "  suma2 += b\n",
        "if suma1 > suma2:\n",
        "  resta1= suma1 - suma2\n",
        "  print(\"El número cuya suma de dígitos es mayor es:\", num, \"cuyo valor es:\", suma1, \"con una diferencia de:\", resta1)\n",
        "elif suma2 > suma1:\n",
        "  resta2= suma2 - suma1\n",
        "  print(\"El número cuya suma de dígitos es mayor es:\", num2, \"cuyo valor es:\", suma2, \"con una diferencia de:\", resta2)\n",
        "elif suma1 == suma2:\n",
        "  print(\"La suma de los dos dígitos son iguales\")\n",
        "else:\n",
        "  print(\"error\")"
      ]
    },
    {
      "cell_type": "markdown",
      "id": "986a4945",
      "metadata": {
        "id": "986a4945"
      },
      "source": [
        "243### Problema 2: Suma Objetivo (50xp)\n",
        "\n",
        "Indique si la suma de los dígitos de un número de verificación alcanza un valor objetivo. Si obtiene el valor objetivo antes de finalizar el recorrido por todos los dígitos del número, indique la iteración en la que se obtuvo este valor. Tenga en cuenta que tanto el valor objetivo como el número de verificación son ingresados por el usuario. En cualquiera de los casos, muestre el resultado obtenido de la suma de los dígitos.\n",
        "\n",
        "**Ejemplo:**\n",
        "```\n",
        "Ingrese número de suma objetivo: 15\n",
        "Ingrese número para validar suma de dígitos: 1234562\n",
        "Suma obtenida en iteración 5 de 7\n",
        "Resultado obtenido: 15\n",
        "Alcanzó el valor objetivo.\n",
        "```\n",
        "\n",
        "**Recomendación:** pruebe su algoritmo con números y listas de prueba:\n",
        "- `n_obj`: valor objetivo\n",
        "- `lst`: lista que representa el número de verificación. Por ejemplo: dígitos del número de su id\n",
        "\n",
        "**Nota:** para leer un número ingresado por el usuario y convertirlo en lista puede utilizar las siguientes instrucciones:\n",
        "\n",
        "```python\n",
        "num = input('Número: ')\n",
        "lst = [int(x) for x in num]\n",
        "```"
      ]
    },
    {
      "cell_type": "code",
      "execution_count": null,
      "id": "895f4399",
      "metadata": {
        "colab": {
          "base_uri": "https://localhost:8080/"
        },
        "id": "895f4399",
        "outputId": "14db5eba-cc1d-4f06-d5d1-c5339b651c5b"
      },
      "outputs": [
        {
          "output_type": "stream",
          "name": "stdout",
          "text": [
            "Número: 53\n",
            "Ingrese el valor de suma objetivo: 8\n",
            "5\n",
            "8\n",
            "Alcanzó el valor objetivo\n"
          ]
        }
      ],
      "source": [
        "num = input('Número: ')\n",
        "lst = [int(x) for x in num]\n",
        "n_obj = input(\"Ingrese el valor de suma objetivo: \")\n",
        "sum = 0\n",
        "for a in lst:\n",
        "  sum +=a\n",
        "  print(sum)\n",
        "  if sum == n_obj:\n",
        "    break\n",
        "print(\"Alcanzó el valor objetivo\")\n",
        "\n"
      ]
    },
    {
      "cell_type": "markdown",
      "id": "0b532b9b",
      "metadata": {
        "id": "0b532b9b"
      },
      "source": [
        "8### Problema 3: Dígito Mayor (40xp)\n",
        "\n",
        "Indique el dígito de mayor valor y su posición en un número ingresado por el usuario. En caso de que el dígito mayor se repita, se debe retornar el índice del primero de ellos que fue encontrado. \n",
        "\n",
        "**Ejemplo:**\n",
        "\n",
        "```\n",
        "Ingrese número: 123753569054\n",
        "El dígito mayor de la lista es 9\n",
        "El número se encontró en la posición 8\n",
        "```\n",
        "\n",
        "**Recomendación:** pruebe su algoritmo con listas de prueba:\n",
        "- `lst`: lista que representa el número a evaluar. Por ejemplo: dígitos del número de su documento de identidad\n",
        "\n",
        "**Nota:** para leer un número ingresado por el usuario y convertirlo en lista puede utilizar las siguientes instrucciones:\n",
        "\n",
        "```python\n",
        "num = input('Número: ')\n",
        "lst = [int(x) for x in num]\n",
        "```"
      ]
    },
    {
      "cell_type": "code",
      "execution_count": null,
      "id": "9159f388",
      "metadata": {
        "scrolled": true,
        "colab": {
          "base_uri": "https://localhost:8080/"
        },
        "id": "9159f388",
        "outputId": "281dd9a8-6076-4a38-a69e-c6f4c864001a"
      },
      "outputs": [
        {
          "output_type": "stream",
          "name": "stdout",
          "text": [
            "Número: 147259013573190517803\n",
            "[1, 4, 7, 2, 5, 9, 0, 1, 3, 5, 7, 3, 1, 9, 0, 5, 1, 7, 8, 0, 3]\n",
            "[0, 0, 0, 1, 1, 1, 1, 2, 3, 3, 3, 4, 5, 5, 5, 7, 7, 7, 8, 9, 9]\n",
            "[9]\n",
            "El dígito mayor de la lista es:  [9] Se encuentra en la última posición al organizar la lista\n"
          ]
        }
      ],
      "source": [
        "num = input('Número: ')\n",
        "lst = [int(x) for x in num]\n",
        "print(lst)\n",
        "sorted_lst = sorted(lst)\n",
        "lst.sort()\n",
        "print(sorted_lst)\n",
        "last = sorted_lst[-1:]\n",
        "print(last)\n",
        "print(\"El dígito mayor de la lista es: \", last, \"Se encuentra en la última posición al organizar la lista\")\n",
        "\n",
        "\n",
        "\n"
      ]
    },
    {
      "cell_type": "markdown",
      "id": "03af9108",
      "metadata": {
        "id": "03af9108"
      },
      "source": [
        "### Problema 4: Valores que coinciden (50xp)\n",
        "\n",
        "Indique las posiciones (índices) en los cuales se encuentran los mismos valores de los dígitos en dos números ingresados por el usuario. El algoritmo debe verificar que los números tengan la misma longitud (igual número de dígitos). Si ninguno de los dígitos de los números coincide, también debe informarlo al usuario. \n",
        "\n",
        "**Ejemplo:**\n",
        "\n",
        "```\n",
        "Ingrese el primer número: 124646272\n",
        "Ingrese el segundo número: 354849136\n",
        "Los números tienen 2 dígitos(s) en común en la(s) posición(es): [2, 4]\n",
        "```\n",
        "\n",
        "**Recomendación:** pruebe su algoritmo con listas de prueba:\n",
        "- `lst_1`: lista que representa el primer número. \n",
        "- `lst_2`: lista que representa el segundo número. \n",
        "\n",
        "**Nota:** para leer un número ingresado por el usuario y convertirlo en lista puede utilizar las siguientes instrucciones:\n",
        "\n",
        "```python\n",
        "num = input('Número: ')\n",
        "lst = [int(x) for x in num]\n",
        "```"
      ]
    },
    {
      "cell_type": "code",
      "execution_count": null,
      "id": "85469377",
      "metadata": {
        "colab": {
          "base_uri": "https://localhost:8080/"
        },
        "id": "85469377",
        "outputId": "9ea1caca-71e1-4ac6-b92f-81b4ba70df62"
      },
      "outputs": [
        {
          "output_type": "stream",
          "name": "stdout",
          "text": [
            "4\n",
            "1\n"
          ]
        }
      ],
      "source": [
        "#num = input('Número: ')\n",
        "#lst = [int(x) for x in num]\n",
        "#print(lst)\n",
        "#num2 = input('Número2: ')\n",
        "#lst2 = [int(x) for x in num2]\n",
        "#print(lst2)\n",
        "num = [1,2,3,4,5,6,7,3,4,5,1,2,3,4,5,3,9]\n",
        "count_i= num.count(3)\n",
        "print(count_i)\n",
        "num2 = [1,2,5,6,7,8,9,3,23,5]\n",
        "count_i2= num2.count(3)\n",
        "print(count_i2)"
      ]
    },
    {
      "cell_type": "code",
      "execution_count": null,
      "id": "fdf35177",
      "metadata": {
        "id": "fdf35177"
      },
      "outputs": [],
      "source": []
    }
  ],
  "metadata": {
    "kernelspec": {
      "display_name": "Python 3 (ipykernel)",
      "language": "python",
      "name": "python3"
    },
    "language_info": {
      "codemirror_mode": {
        "name": "ipython",
        "version": 3
      },
      "file_extension": ".py",
      "mimetype": "text/x-python",
      "name": "python",
      "nbconvert_exporter": "python",
      "pygments_lexer": "ipython3",
      "version": "3.10.6"
    },
    "colab": {
      "provenance": [],
      "include_colab_link": true
    }
  },
  "nbformat": 4,
  "nbformat_minor": 5
}